{
 "cells": [
  {
   "cell_type": "markdown",
   "id": "9dd78f28-be27-4543-815c-1000d060e644",
   "metadata": {},
   "source": [
    "# SQL"
   ]
  },
  {
   "cell_type": "markdown",
   "id": "ea5b7f19-5abb-4779-889b-e64e4ea3b1bc",
   "metadata": {
    "jp-MarkdownHeadingCollapsed": true,
    "tags": []
   },
   "source": [
    "### Q1. What is a database? Differentiate between SQL and NoSQL databases."
   ]
  },
  {
   "cell_type": "markdown",
   "id": "9abda78a-92cb-4ea4-870a-63e79216bf42",
   "metadata": {},
   "source": [
    "* A database is a structured collection of data organized in a way that a computer program can quickly select and retrieve specific pieces of data. It typically consists of tables, which are organized into rows and columns, with each row representing a record and each column representing a field.\n",
    "*  SQL databases use a structured, tabular format with a predefined schema, while NoSQL databases are more flexible, accommodating various data models and structures."
   ]
  },
  {
   "cell_type": "markdown",
   "id": "7989f376-a1b7-4a58-89a3-9113e0ab39d2",
   "metadata": {
    "jp-MarkdownHeadingCollapsed": true,
    "tags": []
   },
   "source": [
    "### Q2. What is DDL? Explain why CREATE, DROP, ALTER, and TRUNCATE are used with an example."
   ]
  },
  {
   "cell_type": "markdown",
   "id": "cb5d6e07-952d-42fd-b32d-16bee4cfb6d3",
   "metadata": {},
   "source": [
    "* DDL stands for Data Definition Language.It consists of mainly CREATE, DROP, ALTER, and TRUNCATE.\n",
    "CREATE:The CREATE statement is used to create database objects, such as tables, indexes, or views.\n",
    "* CREATE TABLE employees (\n",
    "    employee_id INT PRIMARY KEY,\n",
    "    first_name VARCHAR(50),\n",
    "    last_name VARCHAR(50),\n",
    "    hire_date DATE);\n",
    "* DROP:The DROP statement is used to delete database objects, such as tables, indexes, or views.\n",
    "Example: Dropping the 'employees' table:\n",
    "DROP TABLE employees;\n",
    "*ALTER:\n",
    "\n",
    "The ALTER statement is used to modify the structure of an existing database object, such as adding, modifying, or deleting columns in a table.\n",
    "Example: Adding a new column 'salary' to the 'employees' table:\n",
    "ALTER TABLE employees\n",
    "ADD COLUMN salary DECIMAL(10, 2);\n",
    "* TRUNCATE:\n",
    "\n",
    "The TRUNCATE statement is used to remove all records from a table but retains the structure of the table for future use.\n",
    "Example: Truncating the 'employees' table, removing all data but keeping the table structure:TRUNCATE TABLE employees;\n",
    "\n",
    "\n",
    "\n"
   ]
  },
  {
   "cell_type": "markdown",
   "id": "922a8435-c831-4f96-a65d-45a5e1c8e6a3",
   "metadata": {
    "jp-MarkdownHeadingCollapsed": true,
    "tags": []
   },
   "source": [
    "### Q3. What is DML? Explain INSERT, UPDATE, and DELETE with an example."
   ]
  },
  {
   "cell_type": "markdown",
   "id": "44413bc4-ecd1-4740-b0ac-b01a54d91c92",
   "metadata": {},
   "source": [
    "DML (Data Manipulation Language):\n",
    "\n",
    "DML stands for Data Manipulation Language, which is a subset of SQL (Structured Query Language) used for manipulating data stored in a database. DML statements include INSERT, UPDATE, DELETE, and SELECT.\n",
    "\n",
    "Here's a brief explanation of INSERT, UPDATE, and DELETE with examples:\n",
    "\n",
    "INSERT:\n",
    "\n",
    "The INSERT statement is used to add new records (rows) into a table.\n",
    "Example: Inserting a new employee record into the 'employees' table:\n",
    "\n",
    "sql\n",
    "Copy code\n",
    "INSERT INTO employees (employee_id, first_name, last_name, hire_date)\n",
    "VALUES (1, 'John', 'Doe', '2024-02-06');\n",
    "UPDATE:\n",
    "\n",
    "The UPDATE statement is used to modify existing records in a table.\n",
    "Example: Updating the salary of an employee in the 'employees' table:\n",
    "\n",
    "sql\n",
    "Copy code\n",
    "UPDATE employees\n",
    "SET salary = 50000\n",
    "WHERE employee_id = 1;\n",
    "DELETE:\n",
    "\n",
    "The DELETE statement is used to remove records from a table based on a specified condition.\n",
    "Example: Deleting an employee record from the 'employees' table based on their ID:\n",
    "\n",
    "sql\n",
    "Copy code\n",
    "DELETE FROM employees\n",
    "WHERE employee_id = 1;"
   ]
  },
  {
   "cell_type": "markdown",
   "id": "a9831c24-fb13-4400-baeb-d2d99e789315",
   "metadata": {
    "jp-MarkdownHeadingCollapsed": true,
    "tags": []
   },
   "source": [
    "### Q4. What is DQL? Explain SELECT with an example."
   ]
  },
  {
   "cell_type": "markdown",
   "id": "90677bf1-3d9d-4a70-9c42-f03c692b2339",
   "metadata": {},
   "source": [
    "DQL stands for Data Query Language, which is a subset of SQL (Structured Query Language) used for querying and retrieving data from a database. The primary DQL statement is SELECT.\n",
    "\n",
    "SELECT:\n",
    "\n",
    "The SELECT statement is used to retrieve data from one or more tables in a database.\n",
    "Example: Retrieving information about employees from the 'employees' table:\n",
    "\n",
    "sql\n",
    "Copy code\n",
    "SELECT employee_id, first_name, last_name, hire_date\n",
    "FROM employees\n",
    "WHERE department_id = 10;"
   ]
  },
  {
   "cell_type": "markdown",
   "id": "b4fa362b-4719-49af-9418-30c449489db7",
   "metadata": {
    "jp-MarkdownHeadingCollapsed": true,
    "tags": []
   },
   "source": [
    "### Q5. Explain Primary Key and Foreign Key."
   ]
  },
  {
   "cell_type": "markdown",
   "id": "0205cb56-c4bc-410f-9762-81ad5b116fc9",
   "metadata": {},
   "source": [
    "\n",
    "Primary Key:\n",
    "\n",
    "A primary key is a unique identifier for a record in a table. It ensures each record is uniquely identified and helps enforce data integrity.\n",
    "Foreign Key:\n",
    "\n",
    "A foreign key is a field in a table that refers to the primary key in another table. It establishes a link between the two tables, enforcing referential integrity."
   ]
  },
  {
   "cell_type": "markdown",
   "id": "98d40339-9c3a-4908-b925-bb46ae49b54c",
   "metadata": {
    "jp-MarkdownHeadingCollapsed": true,
    "tags": []
   },
   "source": [
    "### Q6. Write a python code to connect MySQL to python. Explain the cursor() and execute() method."
   ]
  },
  {
   "cell_type": "markdown",
   "id": "b15065ea-bdb6-44bf-91ce-c604b4d8cb61",
   "metadata": {},
   "source": [
    "import mysql.connector\n",
    "\n",
    " Connect to MySQL database\n",
    "connection = mysql.connector.connect(\n",
    "    host=\"your_host\",\n",
    "    user=\"your_username\",\n",
    "    password=\"your_password\",\n",
    "    database=\"your_database\"\n",
    ")\n",
    "\n",
    " Create a cursor object\n",
    "cursor = connection.cursor()\n",
    "\n",
    " Example: Execute a SQL query\n",
    "query = \"SELECT * FROM your_table;\"\n",
    "cursor.execute(query)\n",
    "\n",
    " Fetch the result\n",
    "result = cursor.fetchall()\n",
    "\n",
    "# Close the cursor and connection\n",
    "cursor.close()\n",
    "connection.close()\n",
    "\n",
    "\n",
    "cursor() method:\n",
    "\n",
    "The cursor() method creates a cursor object, which is used to interact with the MySQL database. Cursors are used to execute SQL queries and fetch results.\n",
    "execute() method:\n",
    "\n",
    "The execute() method is used to execute a SQL query. In the example, it executes a SELECT query on the MySQL database. After executing the query, you can use methods like fetchone(), fetchall(), etc., to retrieve the results\n"
   ]
  },
  {
   "cell_type": "markdown",
   "id": "152a393e-e995-4516-b7c3-96042b6d26ed",
   "metadata": {
    "jp-MarkdownHeadingCollapsed": true,
    "tags": []
   },
   "source": [
    "### Q7. Give the order of execution of SQL clauses in an SQL query."
   ]
  },
  {
   "cell_type": "markdown",
   "id": "f65b9701-4c86-4992-9125-6bd189b4ae1b",
   "metadata": {},
   "source": [
    "FROM: Specifies the table(s) from which to retrieve data.\n",
    "WHERE: Filters the rows based on specified conditions.\n",
    "GROUP BY: Groups rows that have the same values into summary rows.\n",
    "HAVING: Filters the grouped rows based on specified conditions.\n",
    "SELECT: Retrieves the specified columns.\n",
    "ORDER BY: Sorts the result set based on specified columns.\n",
    "LIMIT / OFFSET: Specifies the number of rows to retrieve and the starting point."
   ]
  }
 ],
 "metadata": {
  "kernelspec": {
   "display_name": "Python 3 (ipykernel)",
   "language": "python",
   "name": "python3"
  },
  "language_info": {
   "codemirror_mode": {
    "name": "ipython",
    "version": 3
   },
   "file_extension": ".py",
   "mimetype": "text/x-python",
   "name": "python",
   "nbconvert_exporter": "python",
   "pygments_lexer": "ipython3",
   "version": "3.10.8"
  }
 },
 "nbformat": 4,
 "nbformat_minor": 5
}
